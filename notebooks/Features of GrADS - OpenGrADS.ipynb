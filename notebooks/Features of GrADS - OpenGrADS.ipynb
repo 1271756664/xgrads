{
 "cells": [
  {
   "cell_type": "markdown",
   "metadata": {},
   "source": [
    "## Features of GrADS/OpenGrADS\n",
    "**28 June 2020 by MiniUFO**\n",
    "\n",
    "---\n",
    "[TOC]\n",
    "\n",
    "---\n",
    "### 1. Introduction\n",
    "The Grid Analysis and Display System ([GrADS](http://cola.gmu.edu/grads/)) is an interactive desktop tool that is used for easy access, manipulation, and visualization of earth science data.  Its targeted users are mainly meteorological scientists.\n",
    "\n",
    "\n",
    "---\n",
    "### 2. Features\n",
    "#### 2.1 Fast and efficient\n",
    "[GrADS](http://cola.gmu.edu/grads/) is written using C program language so that it is fast and efficient.  In batch mode, [GrADS](http://cola.gmu.edu/grads/) can generate tens of plots in one second.  This is really amazing when compared to its counterparts like [Matlab](https://www.mathworks.com/products/matlab.html) and [Python-matplotlib](https://matplotlib.org/).\n",
    "\n",
    "#### 2.2 Automatic map plotting\n",
    "[GrADS](http://cola.gmu.edu/grads/) is good at dealing with geographic data defined on a latitude/longtiude grid.  Its `xdef` and `ydef` keywords in `.ctl` file commonly refer to longitude and latitude.  As a result, the map will be plotted automatically when some horizontal data are displayed.  One have to explicitly turn off the map drawing using the command `set mapdraw off`.  So if your data are defined on Cartesian coordinates, it still show you the map under the plot.  This is handy compared to other softwares when dealing with lat/lon data.  For example, when you use [Matlab](https://www.mathworks.com/products/matlab.html) or [Python-matplotlib](https://matplotlib.org/) to plot the lat/lon data, you need a lot of extra scripts to add a map (see [m_map](https://www.eoas.ubc.ca/~rich/map.html) and [cartopy](https://scitools.org.uk/cartopy/docs/latest/)).  However, automatic map plotting is sometimes annoying when you deal with non-lat/lon (e.g., Cartesian coordinates) data.\n",
    "\n",
    "#### 2.3 zonal periodicity\n",
    "This is amazing feature when your data cover the whole latitude bands.  If you want to display from 0 to 400E, [GrADS](http://cola.gmu.edu/grads/) will automatically reuse the data from 0 to 40E as 360E to 400E so that the whole plot is seamless from 0 to 400E.  Similarly, you can set the longitude range within -360E to 0, or even unbounded.  [GrADS](http://cola.gmu.edu/grads/) will automatically adjust the range for display.  However, this is really some kind of disaster when you use [cartopy](https://scitools.org.uk/cartopy/docs/latest/) for map plotting, especially labelling in units of E or W (maybe I'm not so good at this).\n",
    "\n",
    "---\n",
    "### References\n",
    "[http://cola.gmu.edu/grads/](http://cola.gmu.edu/grads/)\n",
    "\n",
    "[https://scitools.org.uk/cartopy/docs/latest/](https://scitools.org.uk/cartopy/docs/latest/)\n",
    "\n",
    "[https://matplotlib.org/](https://matplotlib.org/)\n",
    "\n",
    "[https://www.mathworks.com/products/matlab.html](https://www.mathworks.com/products/matlab.html)"
   ]
  }
 ],
 "metadata": {
  "kernelspec": {
   "display_name": "Python 3",
   "language": "python",
   "name": "python3"
  },
  "language_info": {
   "codemirror_mode": {
    "name": "ipython",
    "version": 3
   },
   "file_extension": ".py",
   "mimetype": "text/x-python",
   "name": "python",
   "nbconvert_exporter": "python",
   "pygments_lexer": "ipython3",
   "version": "3.7.6"
  }
 },
 "nbformat": 4,
 "nbformat_minor": 2
}
