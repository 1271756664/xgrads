{
 "cells": [
  {
   "cell_type": "markdown",
   "metadata": {},
   "source": [
    "## Python读取GrADS的ctl二进制文件\n",
    "**18 Febrary 2020 by MiniUFO**\n",
    "\n",
    "---\n",
    "[TOC]\n",
    "\n",
    "---\n",
    "### 1. 问题\n",
    "用了python的[`xarray`](http://xarray.pydata.org/en/stable/)包后，特别喜欢它的数据接口，直接就可以读取自描述的[NetCDF](https://www.unidata.ucar.edu/software/netcdf/)（nc）文件，并且组织成一个`Dataset`。例如打开[`xarray`](http://xarray.pydata.org/en/stable/)自带的教学nc文件可以得到如下的`Dataset`："
   ]
  },
  {
   "cell_type": "code",
   "execution_count": 1,
   "metadata": {
    "scrolled": true
   },
   "outputs": [
    {
     "data": {
      "text/html": [
       "<pre>&lt;xarray.Dataset&gt;\n",
       "Dimensions:  (lat: 25, lon: 53, time: 2920)\n",
       "Coordinates:\n",
       "  * lat      (lat) float32 75.0 72.5 70.0 67.5 65.0 ... 25.0 22.5 20.0 17.5 15.0\n",
       "  * lon      (lon) float32 200.0 202.5 205.0 207.5 ... 322.5 325.0 327.5 330.0\n",
       "  * time     (time) datetime64[ns] 2013-01-01 ... 2014-12-31T18:00:00\n",
       "Data variables:\n",
       "    air      (time, lat, lon) float32 ...\n",
       "Attributes:\n",
       "    Conventions:  COARDS\n",
       "    title:        4x daily NMC reanalysis (1948)\n",
       "    description:  Data is from NMC initialized reanalysis\\n(4x/day).  These a...\n",
       "    platform:     Model\n",
       "    references:   http://www.esrl.noaa.gov/psd/data/gridded/data.ncep.reanaly...</pre>"
      ],
      "text/plain": [
       "<xarray.Dataset>\n",
       "Dimensions:  (lat: 25, lon: 53, time: 2920)\n",
       "Coordinates:\n",
       "  * lat      (lat) float32 75.0 72.5 70.0 67.5 65.0 ... 25.0 22.5 20.0 17.5 15.0\n",
       "  * lon      (lon) float32 200.0 202.5 205.0 207.5 ... 322.5 325.0 327.5 330.0\n",
       "  * time     (time) datetime64[ns] 2013-01-01 ... 2014-12-31T18:00:00\n",
       "Data variables:\n",
       "    air      (time, lat, lon) float32 ...\n",
       "Attributes:\n",
       "    Conventions:  COARDS\n",
       "    title:        4x daily NMC reanalysis (1948)\n",
       "    description:  Data is from NMC initialized reanalysis\\n(4x/day).  These a...\n",
       "    platform:     Model\n",
       "    references:   http://www.esrl.noaa.gov/psd/data/gridded/data.ncep.reanaly..."
      ]
     },
     "execution_count": 1,
     "metadata": {},
     "output_type": "execute_result"
    }
   ],
   "source": [
    "import xarray as xr\n",
    "\n",
    "dset = xr.tutorial.open_dataset('air_temperature')\n",
    "dset"
   ]
  },
  {
   "cell_type": "markdown",
   "metadata": {},
   "source": [
    "可以很清楚地看到nc文件的结构、变量、坐标、meta信息等等。\n",
    "\n",
    "我以前是[GrADS/OpenGrADS](http://www.opengrads.org/)的重度用户，我也习惯使用[GrADS/OpenGrADS](http://www.opengrads.org/)和配套的二进制数据，通常是一个二进制文件配一个[.ctl](http://cola.gmu.edu/grads/gadoc/descriptorfile.html)（control，类似于nc的header信息）文件进行信息描述。所以现在开始学习python以后希望能用python直接解析ctl文件信息然后读取相应的二进制文件数据。解析ctl文件并不难，但是我希望能和[`xarray`](http://xarray.pydata.org/en/stable/)无缝连接，读取完数据返回一个`Dataset`，并且使用[`dask`](https://dask.org/)工具，做到数据在内存中的缓存和并行。\n",
    "\n",
    "---\n",
    "\n",
    "### 2. 解决方法\n",
    "首先，编写了一个[xgrads](https://github.com/miniufo/xgrads)包，里面用`CtlDescriptor`类来代表.ctl文件，使用如下："
   ]
  },
  {
   "cell_type": "code",
   "execution_count": 1,
   "metadata": {
    "scrolled": false
   },
   "outputs": [
    {
     "name": "stdout",
     "output_type": "stream",
     "text": [
      "   dsetPath: ['../ctls/test8_2013010100.dat' '../ctls/test8_2013010106.dat'\n",
      " '../ctls/test8_2013010112.dat' '../ctls/test8_2013010118.dat']\n",
      "   descPath: ../ctls/test8.ctl\n",
      "   indxPath: \n",
      "   stnmPath: \n",
      "      title: \n",
      "      undef: -9.99e+33\n",
      "       zrev: False\n",
      "       yrev: True\n",
      "      dtype: \n",
      "   template: True\n",
      "  periodicX: True\n",
      " cal365Days: False\n",
      " sequential: True\n",
      "  byteOrder: True\n",
      "       xdef: [200.  202.5 205.  207.5 210.  212.5 215.  217.5 220.  222.5 225.  227.5\n",
      " 230.  232.5 235.  237.5 240.  242.5 245.  247.5 250.  252.5 255.  257.5\n",
      " 260.  262.5 265.  267.5 270.  272.5 275.  277.5 280.  282.5 285.  287.5\n",
      " 290.  292.5 295.  297.5 300.  302.5 305.  307.5 310.  312.5 315.  317.5\n",
      " 320.  322.5 325.  327.5 330. ]\n",
      "       ydef: [75.  72.5 70.  67.5 65.  62.5 60.  57.5 55.  52.5 50.  47.5 45.  42.5\n",
      " 40.  37.5 35.  32.5 30.  27.5 25.  22.5 20.  17.5 15. ]\n",
      "       zdef: [1000.]\n",
      "       tdef: ['2013-01-01T00:00:00' '2013-01-01T06:00:00' '2013-01-01T12:00:00'\n",
      " '2013-01-01T18:00:00']\n",
      "       vdef: [CtlVar: air      in shape (t=4, z=1, y=25, x=53)]\n"
     ]
    }
   ],
   "source": [
    "import sys\n",
    "sys.path.append('../../')\n",
    "from xgrads.core import CtlDescriptor\n",
    "\n",
    "\n",
    "ctl = CtlDescriptor(file='../ctls/test8.ctl')\n",
    "\n",
    "print(ctl)"
   ]
  },
  {
   "cell_type": "markdown",
   "metadata": {},
   "source": [
    "然后用这个类来构建一个`open_CtlDataset`函数，该函数和[`xarray.open_dataset`](http://xarray.pydata.org/en/stable/generated/xarray.open_dataset.html)一样返回`Dataset`："
   ]
  },
  {
   "cell_type": "code",
   "execution_count": 2,
   "metadata": {},
   "outputs": [
    {
     "data": {
      "text/html": [
       "<pre>&lt;xarray.Dataset&gt;\n",
       "Dimensions:  (lat: 25, lon: 53, time: 4)\n",
       "Coordinates:\n",
       "  * time     (time) datetime64[ns] 2013-01-01 ... 2013-01-01T18:00:00\n",
       "  * lat      (lat) float32 75.0 72.5 70.0 67.5 65.0 ... 25.0 22.5 20.0 17.5 15.0\n",
       "  * lon      (lon) float32 200.0 202.5 205.0 207.5 ... 322.5 325.0 327.5 330.0\n",
       "Data variables:\n",
       "    air      (time, lat, lon) &gt;f4 dask.array&lt;chunksize=(1, 25, 53), meta=np.ndarray&gt;\n",
       "Attributes:\n",
       "    title:    \n",
       "    undef:    -9.99e+33</pre>"
      ],
      "text/plain": [
       "<xarray.Dataset>\n",
       "Dimensions:  (lat: 25, lon: 53, time: 4)\n",
       "Coordinates:\n",
       "  * time     (time) datetime64[ns] 2013-01-01 ... 2013-01-01T18:00:00\n",
       "  * lat      (lat) float32 75.0 72.5 70.0 67.5 65.0 ... 25.0 22.5 20.0 17.5 15.0\n",
       "  * lon      (lon) float32 200.0 202.5 205.0 207.5 ... 322.5 325.0 327.5 330.0\n",
       "Data variables:\n",
       "    air      (time, lat, lon) >f4 dask.array<chunksize=(1, 25, 53), meta=np.ndarray>\n",
       "Attributes:\n",
       "    title:    \n",
       "    undef:    -9.99e+33"
      ]
     },
     "execution_count": 2,
     "metadata": {},
     "output_type": "execute_result"
    }
   ],
   "source": [
    "from xgrads.core import open_CtlDataset\n",
    "\n",
    "dset = open_CtlDataset('../ctls/test8.ctl')\n",
    "\n",
    "dset"
   ]
  },
  {
   "cell_type": "markdown",
   "metadata": {},
   "source": [
    "花了点时间去编写[`dask`](https://dask.org/)相关代码，所以这里返回的`Dataset`同样支持[`dask`](https://dask.org/)的`chunk`功能。同时也(部分)支持ctl的[template](http://cola.gmu.edu/grads/gadoc/templates.html)功能。这样python可以完美读取[GrADS/OpenGrADS](http://www.opengrads.org/)的ctl和对应的二进制文件，并且与[`xarray`](http://xarray.pydata.org/en/stable/)的功能无缝配合。比如读取变量并画图："
   ]
  },
  {
   "cell_type": "code",
   "execution_count": 3,
   "metadata": {},
   "outputs": [
    {
     "data": {
      "text/plain": [
       "<matplotlib.collections.QuadMesh at 0x1f36eeb3588>"
      ]
     },
     "execution_count": 3,
     "metadata": {},
     "output_type": "execute_result"
    },
    {
     "data": {
      "image/png": "[encoded data removed]",
      "text/plain": [
       "<Figure size 432x288 with 2 Axes>"
      ]
     },
     "metadata": {
      "needs_background": "light"
     },
     "output_type": "display_data"
    }
   ],
   "source": [
    "dset.air[0].plot()"
   ]
  },
  {
   "cell_type": "markdown",
   "metadata": {},
   "source": [
    "### References\n",
    "[https://dask.org/](https://dask.org/)\n",
    "\n",
    "[http://xarray.pydata.org/en/stable/](http://xarray.pydata.org/en/stable/)"
   ]
  }
 ],
 "metadata": {
  "kernelspec": {
   "display_name": "Python 3",
   "language": "python",
   "name": "python3"
  },
  "language_info": {
   "codemirror_mode": {
    "name": "ipython",
    "version": 3
   },
   "file_extension": ".py",
   "mimetype": "text/x-python",
   "name": "python",
   "nbconvert_exporter": "python",
   "pygments_lexer": "ipython3",
   "version": "3.8.5"
  }
 },
 "nbformat": 4,
 "nbformat_minor": 2
}
